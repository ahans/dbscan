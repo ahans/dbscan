{
 "cells": [
  {
   "cell_type": "code",
   "execution_count": 44,
   "metadata": {},
   "outputs": [],
   "source": [
    "import numpy as np\n",
    "import matplotlib.pyplot as plt\n",
    "from sklearn.cluster import DBSCAN\n",
    "from sklearn.metrics.pairwise import euclidean_distances"
   ]
  },
  {
   "cell_type": "code",
   "execution_count": 71,
   "metadata": {},
   "outputs": [],
   "source": [
    "blob_a = 1.5 * np.random.rand(10,2)\n",
    "blob_a[:, 0] += 4\n",
    "blob_b = 1.5 * np.random.rand(10,2)\n",
    "blob_b[:, 0] += 10\n",
    "blob_c = 1.5 * np.random.rand(30,2)\n",
    "blob_c[:, 0] += 5\n",
    "blob_c[:, 1] += 5\n",
    "\n",
    "data = np.concatenate((blob_a, blob_b, blob_c), axis=0)\n",
    "num_points = data.shape[0]"
   ]
  },
  {
   "cell_type": "code",
   "execution_count": 72,
   "metadata": {},
   "outputs": [
    {
     "data": {
      "text/plain": [
       "(0.0, 10.0)"
      ]
     },
     "execution_count": 72,
     "metadata": {},
     "output_type": "execute_result"
    },
    {
     "data": {
      "image/png": "[encoded data removed]",
      "text/plain": [
       "<Figure size 640x480 with 1 Axes>"
      ]
     },
     "metadata": {},
     "output_type": "display_data"
    }
   ],
   "source": [
    "plt.scatter(data[:,0], data[:,1])\n",
    "plt.xlim([2, 12])\n",
    "plt.ylim([0, 10])"
   ]
  },
  {
   "cell_type": "code",
   "execution_count": 78,
   "metadata": {},
   "outputs": [],
   "source": [
    "eps = 1.0\n",
    "n_samples = 3\n",
    "dbscan = DBSCAN(eps=eps, min_samples=n_samples)\n",
    "labels_sklearn = dbscan.fit_predict(data)"
   ]
  },
  {
   "cell_type": "code",
   "execution_count": 76,
   "metadata": {},
   "outputs": [
    {
     "name": "stdout",
     "output_type": "stream",
     "text": [
      "Converged in 2 iterations\n"
     ]
    }
   ],
   "source": [
    "core_points = -1 * np.ones((num_points,)).astype(int)\n",
    "for i in range(num_points):\n",
    "    distances = euclidean_distances(data, [data[i, :]]).reshape(num_points,)\n",
    "    nbrs = (distances < eps).nonzero()[0]\n",
    "    if nbrs.shape[0] >= n_samples:\n",
    "        for nbr in nbrs:\n",
    "            if core_points[nbr] == -1 or core_points[nbr] == nbr:\n",
    "                core_points[nbr] = i\n",
    "\n",
    "labels = np.arange(num_points)\n",
    "labels[core_points == -1] = -1\n",
    "converged = False\n",
    "num_iterations = 0\n",
    "while not converged:\n",
    "    num_iterations += 1\n",
    "    converged = True\n",
    "    for i in range(num_points):\n",
    "        if labels[i] == -1:\n",
    "            continue\n",
    "        current_core_idx = core_points[i]\n",
    "        if labels[i] < labels[current_core_idx]:\n",
    "            labels[current_core_idx] = labels[i]\n",
    "            converged = False\n",
    "        elif labels[i] > labels[current_core_idx]:\n",
    "            labels[i] = labels[current_core_idx]\n",
    "            converged = False\n",
    "\n",
    "print(f\"Converged in {num_iterations} iterations\")"
   ]
  },
  {
   "cell_type": "code",
   "execution_count": 80,
   "metadata": {},
   "outputs": [
    {
     "name": "stdout",
     "output_type": "stream",
     "text": [
      "[10 10 30]\n",
      "[10  0  0  0  0  0  0  0  0  0 10  0  0  0  0  0  0  0  0  0 30]\n"
     ]
    }
   ],
   "source": [
    "print(np.bincount(labels_sklearn))\n",
    "print(np.bincount(labels))"
   ]
  },
  {
   "cell_type": "code",
   "execution_count": null,
   "metadata": {},
   "outputs": [],
   "source": []
  }
 ],
 "metadata": {
  "kernelspec": {
   "display_name": ".venv",
   "language": "python",
   "name": "python3"
  },
  "language_info": {
   "codemirror_mode": {
    "name": "ipython",
    "version": 3
   },
   "file_extension": ".py",
   "mimetype": "text/x-python",
   "name": "python",
   "nbconvert_exporter": "python",
   "pygments_lexer": "ipython3",
   "version": "3.10.6"
  },
  "orig_nbformat": 4
 },
 "nbformat": 4,
 "nbformat_minor": 2
}
